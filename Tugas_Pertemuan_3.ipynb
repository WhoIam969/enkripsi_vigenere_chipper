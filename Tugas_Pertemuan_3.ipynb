{
  "nbformat": 4,
  "nbformat_minor": 0,
  "metadata": {
    "colab": {
      "provenance": [],
      "authorship_tag": "ABX9TyOw9ZeuJxXJWh6eHfx1oqA1",
      "include_colab_link": true
    },
    "kernelspec": {
      "name": "python3",
      "display_name": "Python 3"
    },
    "language_info": {
      "name": "python"
    }
  },
  "cells": [
    {
      "cell_type": "markdown",
      "metadata": {
        "id": "view-in-github",
        "colab_type": "text"
      },
      "source": [
        "<a href=\"https://colab.research.google.com/github/WhoIam969/enkripsi_vigenere_chipper/blob/main/Tugas_Pertemuan_3.ipynb\" target=\"_parent\"><img src=\"https://colab.research.google.com/assets/colab-badge.svg\" alt=\"Open In Colab\"/></a>"
      ]
    },
    {
      "cell_type": "code",
      "execution_count": null,
      "metadata": {
        "id": "EeeoyC09Ovq7",
        "colab": {
          "base_uri": "https://localhost:8080/"
        },
        "outputId": "450382c2-3b39-49e2-f0ff-14ef677961f1"
      },
      "outputs": [
        {
          "output_type": "stream",
          "name": "stdout",
          "text": [
            "Selamat datang di sistem login Vigenere Cipher!\n",
            "Masukkan username: Rizki\n",
            "Masukkan password: 123\n",
            "Login berhasil!\n"
          ]
        }
      ],
      "source": [
        "# Fungsi untuk mengenkripsi teks dengan cipher Vigenere\n",
        "def encrypt(text, key):\n",
        "    encrypted_text = \"\"\n",
        "    key_length = len(key)\n",
        "\n",
        "    for i in range(len(text)):\n",
        "        char = text[i]\n",
        "        if char.isalpha():\n",
        "            shift = ord(key[i % key_length]) - ord('A')\n",
        "            if char.islower():\n",
        "                encrypted_char = chr(((ord(char) - ord('a') + shift) % 26) + ord('a'))\n",
        "            else:\n",
        "                encrypted_char = chr(((ord(char) - ord('A') + shift) % 26) + ord('A'))\n",
        "        else:\n",
        "            encrypted_char = char\n",
        "        encrypted_text += encrypted_char\n",
        "\n",
        "    return encrypted_text\n",
        "\n",
        "# Fungsi untuk mendekripsi teks dengan cipher Vigenere\n",
        "def decrypt(encrypted_text, key):\n",
        "    decrypted_text = \"\"\n",
        "    key_length = len(key)\n",
        "\n",
        "    for i in range(len(encrypted_text)):\n",
        "        char = encrypted_text[i]\n",
        "        if char.isalpha():\n",
        "            shift = ord(key[i % key_length]) - ord('A')\n",
        "            if char.islower():\n",
        "                decrypted_char = chr(((ord(char) - ord('a') - shift) % 26) + ord('a'))\n",
        "            else:\n",
        "                decrypted_char = chr(((ord(char) - ord('A') - shift) % 26) + ord('A'))\n",
        "        else:\n",
        "            decrypted_char = char\n",
        "        decrypted_text += decrypted_char\n",
        "\n",
        "    return decrypted_text\n",
        "\n",
        "# Fungsi untuk login\n",
        "def login(username, password):\n",
        "    # Ganti kunci berikut dengan kunci yang Anda inginkan\n",
        "    key = \"123\"\n",
        "\n",
        "    # Simpan username dan password yang telah dienkripsi\n",
        "    encrypted_username = encrypt(username, key)\n",
        "    encrypted_password = encrypt(password, key)\n",
        "\n",
        "    # Simpan username dan password yang benar\n",
        "    correct_username = encrypt(\"Rizki\", key)\n",
        "    correct_password = encrypt(\"123\", key)\n",
        "\n",
        "    # Periksa apakah username dan password yang dimasukkan benar\n",
        "    if encrypted_username == correct_username and encrypted_password == correct_password:\n",
        "        return True\n",
        "    else:\n",
        "        return False\n",
        "\n",
        "# Contoh penggunaan\n",
        "while True:\n",
        "    print(\"Selamat datang di sistem login Vigenere Cipher!\")\n",
        "    username = input(\"Masukkan username: \")\n",
        "    password = input(\"Masukkan password: \")\n",
        "\n",
        "    if login(username, password):\n",
        "        print(\"Login berhasil!\")\n",
        "        break\n",
        "    else:\n",
        "        print(\"Login gagal. Coba lagi.\")\n"
      ]
    }
  ]
}